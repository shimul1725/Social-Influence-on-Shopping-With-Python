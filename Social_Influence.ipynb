{
 "cells": [
  {
   "cell_type": "markdown",
   "id": "90b8d7e1",
   "metadata": {},
   "source": [
    "## Social Influence on Shopping\n",
    "\n",
    "*This data was collected on our social survey mobile platform Whatsgoodly. We have 300,000 millennial and Gen Z members, and have collected 150,000,000 survey responses from this demographic to date.\n",
    "\n",
    "**We want to perform Exploratory Data Analysis (EDA) on this Data. It including Data cleaning, Data wrangling, Data pre-processing and Data Exploration."
   ]
  },
  {
   "cell_type": "code",
   "execution_count": 10,
   "id": "b8e51225",
   "metadata": {},
   "outputs": [],
   "source": [
    "import pandas as pd\n",
    "import numpy as numpy\n",
    "import matplotlib.pyplot as plt\n",
    "import seaborn as sns\n",
    "\n",
    "# Set code for viewing maximum rows and columns\n",
    "pd.set_option('display.max_rows', None)\n",
    "pd.set_option('display.max_columns', None)"
   ]
  },
  {
   "cell_type": "markdown",
   "id": "8e54fe28",
   "metadata": {},
   "source": [
    "#### Loading, analyzing and exploring the data"
   ]
  },
  {
   "cell_type": "code",
   "execution_count": 11,
   "id": "90f4a067",
   "metadata": {},
   "outputs": [
    {
     "data": {
      "text/html": [
       "<div>\n",
       "<style scoped>\n",
       "    .dataframe tbody tr th:only-of-type {\n",
       "        vertical-align: middle;\n",
       "    }\n",
       "\n",
       "    .dataframe tbody tr th {\n",
       "        vertical-align: top;\n",
       "    }\n",
       "\n",
       "    .dataframe thead th {\n",
       "        text-align: right;\n",
       "    }\n",
       "</style>\n",
       "<table border=\"1\" class=\"dataframe\">\n",
       "  <thead>\n",
       "    <tr style=\"text-align: right;\">\n",
       "      <th></th>\n",
       "      <th>Question</th>\n",
       "      <th>Segment Type</th>\n",
       "      <th>Segment Description</th>\n",
       "      <th>Answer</th>\n",
       "      <th>Count</th>\n",
       "      <th>Percentage</th>\n",
       "    </tr>\n",
       "  </thead>\n",
       "  <tbody>\n",
       "    <tr>\n",
       "      <th>0</th>\n",
       "      <td>What social platform has influenced your onlin...</td>\n",
       "      <td>Mobile</td>\n",
       "      <td>Global results</td>\n",
       "      <td>Facebook</td>\n",
       "      <td>548</td>\n",
       "      <td>0.205</td>\n",
       "    </tr>\n",
       "    <tr>\n",
       "      <th>1</th>\n",
       "      <td>What social platform has influenced your onlin...</td>\n",
       "      <td>Mobile</td>\n",
       "      <td>Global results</td>\n",
       "      <td>Instagram</td>\n",
       "      <td>916</td>\n",
       "      <td>0.342</td>\n",
       "    </tr>\n",
       "    <tr>\n",
       "      <th>2</th>\n",
       "      <td>What social platform has influenced your onlin...</td>\n",
       "      <td>Mobile</td>\n",
       "      <td>Global results</td>\n",
       "      <td>Snapchat</td>\n",
       "      <td>86</td>\n",
       "      <td>0.032</td>\n",
       "    </tr>\n",
       "    <tr>\n",
       "      <th>3</th>\n",
       "      <td>What social platform has influenced your onlin...</td>\n",
       "      <td>Mobile</td>\n",
       "      <td>Global results</td>\n",
       "      <td>Twitter</td>\n",
       "      <td>179</td>\n",
       "      <td>0.067</td>\n",
       "    </tr>\n",
       "    <tr>\n",
       "      <th>4</th>\n",
       "      <td>What social platform has influenced your onlin...</td>\n",
       "      <td>Mobile</td>\n",
       "      <td>Global results</td>\n",
       "      <td>NaN</td>\n",
       "      <td>947</td>\n",
       "      <td>0.354</td>\n",
       "    </tr>\n",
       "  </tbody>\n",
       "</table>\n",
       "</div>"
      ],
      "text/plain": [
       "                                            Question Segment Type  \\\n",
       "0  What social platform has influenced your onlin...       Mobile   \n",
       "1  What social platform has influenced your onlin...       Mobile   \n",
       "2  What social platform has influenced your onlin...       Mobile   \n",
       "3  What social platform has influenced your onlin...       Mobile   \n",
       "4  What social platform has influenced your onlin...       Mobile   \n",
       "\n",
       "  Segment Description     Answer  Count  Percentage  \n",
       "0      Global results   Facebook    548       0.205  \n",
       "1      Global results  Instagram    916       0.342  \n",
       "2      Global results   Snapchat     86       0.032  \n",
       "3      Global results    Twitter    179       0.067  \n",
       "4      Global results        NaN    947       0.354  "
      ]
     },
     "execution_count": 11,
     "metadata": {},
     "output_type": "execute_result"
    }
   ],
   "source": [
    "df = pd.read_csv(\"Data/WhatsgoodlyData-6.csv\")\n",
    "df.head()"
   ]
  },
  {
   "cell_type": "code",
   "execution_count": 12,
   "id": "8798fb80",
   "metadata": {},
   "outputs": [
    {
     "data": {
      "text/html": [
       "<div>\n",
       "<style scoped>\n",
       "    .dataframe tbody tr th:only-of-type {\n",
       "        vertical-align: middle;\n",
       "    }\n",
       "\n",
       "    .dataframe tbody tr th {\n",
       "        vertical-align: top;\n",
       "    }\n",
       "\n",
       "    .dataframe thead th {\n",
       "        text-align: right;\n",
       "    }\n",
       "</style>\n",
       "<table border=\"1\" class=\"dataframe\">\n",
       "  <thead>\n",
       "    <tr style=\"text-align: right;\">\n",
       "      <th></th>\n",
       "      <th>Question</th>\n",
       "      <th>Segment Type</th>\n",
       "      <th>Segment Description</th>\n",
       "      <th>Answer</th>\n",
       "      <th>Count</th>\n",
       "      <th>Percentage</th>\n",
       "    </tr>\n",
       "  </thead>\n",
       "  <tbody>\n",
       "    <tr>\n",
       "      <th>0</th>\n",
       "      <td>What social platform has influenced your onlin...</td>\n",
       "      <td>Mobile</td>\n",
       "      <td>Global results</td>\n",
       "      <td>Facebook</td>\n",
       "      <td>548</td>\n",
       "      <td>0.205</td>\n",
       "    </tr>\n",
       "    <tr>\n",
       "      <th>1</th>\n",
       "      <td>What social platform has influenced your onlin...</td>\n",
       "      <td>Mobile</td>\n",
       "      <td>Global results</td>\n",
       "      <td>Instagram</td>\n",
       "      <td>916</td>\n",
       "      <td>0.342</td>\n",
       "    </tr>\n",
       "    <tr>\n",
       "      <th>2</th>\n",
       "      <td>What social platform has influenced your onlin...</td>\n",
       "      <td>Mobile</td>\n",
       "      <td>Global results</td>\n",
       "      <td>Snapchat</td>\n",
       "      <td>86</td>\n",
       "      <td>0.032</td>\n",
       "    </tr>\n",
       "    <tr>\n",
       "      <th>3</th>\n",
       "      <td>What social platform has influenced your onlin...</td>\n",
       "      <td>Mobile</td>\n",
       "      <td>Global results</td>\n",
       "      <td>Twitter</td>\n",
       "      <td>179</td>\n",
       "      <td>0.067</td>\n",
       "    </tr>\n",
       "    <tr>\n",
       "      <th>4</th>\n",
       "      <td>What social platform has influenced your onlin...</td>\n",
       "      <td>Mobile</td>\n",
       "      <td>Global results</td>\n",
       "      <td>NaN</td>\n",
       "      <td>947</td>\n",
       "      <td>0.354</td>\n",
       "    </tr>\n",
       "    <tr>\n",
       "      <th>5</th>\n",
       "      <td>What social platform has influenced your onlin...</td>\n",
       "      <td>Web</td>\n",
       "      <td>Web</td>\n",
       "      <td>Facebook</td>\n",
       "      <td>0</td>\n",
       "      <td>0.000</td>\n",
       "    </tr>\n",
       "    <tr>\n",
       "      <th>6</th>\n",
       "      <td>What social platform has influenced your onlin...</td>\n",
       "      <td>Web</td>\n",
       "      <td>Web</td>\n",
       "      <td>Instagram</td>\n",
       "      <td>0</td>\n",
       "      <td>0.000</td>\n",
       "    </tr>\n",
       "    <tr>\n",
       "      <th>7</th>\n",
       "      <td>What social platform has influenced your onlin...</td>\n",
       "      <td>Web</td>\n",
       "      <td>Web</td>\n",
       "      <td>Snapchat</td>\n",
       "      <td>0</td>\n",
       "      <td>0.000</td>\n",
       "    </tr>\n",
       "    <tr>\n",
       "      <th>8</th>\n",
       "      <td>What social platform has influenced your onlin...</td>\n",
       "      <td>Web</td>\n",
       "      <td>Web</td>\n",
       "      <td>Twitter</td>\n",
       "      <td>0</td>\n",
       "      <td>0.000</td>\n",
       "    </tr>\n",
       "    <tr>\n",
       "      <th>9</th>\n",
       "      <td>What social platform has influenced your onlin...</td>\n",
       "      <td>Web</td>\n",
       "      <td>Web</td>\n",
       "      <td>NaN</td>\n",
       "      <td>2</td>\n",
       "      <td>1.000</td>\n",
       "    </tr>\n",
       "    <tr>\n",
       "      <th>10</th>\n",
       "      <td>What social platform has influenced your onlin...</td>\n",
       "      <td>Gender</td>\n",
       "      <td>Female voters</td>\n",
       "      <td>Facebook</td>\n",
       "      <td>222</td>\n",
       "      <td>0.199</td>\n",
       "    </tr>\n",
       "    <tr>\n",
       "      <th>11</th>\n",
       "      <td>What social platform has influenced your onlin...</td>\n",
       "      <td>Gender</td>\n",
       "      <td>Female voters</td>\n",
       "      <td>Instagram</td>\n",
       "      <td>535</td>\n",
       "      <td>0.480</td>\n",
       "    </tr>\n",
       "    <tr>\n",
       "      <th>12</th>\n",
       "      <td>What social platform has influenced your onlin...</td>\n",
       "      <td>Gender</td>\n",
       "      <td>Female voters</td>\n",
       "      <td>Snapchat</td>\n",
       "      <td>29</td>\n",
       "      <td>0.026</td>\n",
       "    </tr>\n",
       "    <tr>\n",
       "      <th>13</th>\n",
       "      <td>What social platform has influenced your onlin...</td>\n",
       "      <td>Gender</td>\n",
       "      <td>Female voters</td>\n",
       "      <td>Twitter</td>\n",
       "      <td>57</td>\n",
       "      <td>0.051</td>\n",
       "    </tr>\n",
       "    <tr>\n",
       "      <th>14</th>\n",
       "      <td>What social platform has influenced your onlin...</td>\n",
       "      <td>Gender</td>\n",
       "      <td>Female voters</td>\n",
       "      <td>NaN</td>\n",
       "      <td>271</td>\n",
       "      <td>0.243</td>\n",
       "    </tr>\n",
       "  </tbody>\n",
       "</table>\n",
       "</div>"
      ],
      "text/plain": [
       "                                             Question Segment Type  \\\n",
       "0   What social platform has influenced your onlin...       Mobile   \n",
       "1   What social platform has influenced your onlin...       Mobile   \n",
       "2   What social platform has influenced your onlin...       Mobile   \n",
       "3   What social platform has influenced your onlin...       Mobile   \n",
       "4   What social platform has influenced your onlin...       Mobile   \n",
       "5   What social platform has influenced your onlin...          Web   \n",
       "6   What social platform has influenced your onlin...          Web   \n",
       "7   What social platform has influenced your onlin...          Web   \n",
       "8   What social platform has influenced your onlin...          Web   \n",
       "9   What social platform has influenced your onlin...          Web   \n",
       "10  What social platform has influenced your onlin...       Gender   \n",
       "11  What social platform has influenced your onlin...       Gender   \n",
       "12  What social platform has influenced your onlin...       Gender   \n",
       "13  What social platform has influenced your onlin...       Gender   \n",
       "14  What social platform has influenced your onlin...       Gender   \n",
       "\n",
       "   Segment Description     Answer  Count  Percentage  \n",
       "0       Global results   Facebook    548       0.205  \n",
       "1       Global results  Instagram    916       0.342  \n",
       "2       Global results   Snapchat     86       0.032  \n",
       "3       Global results    Twitter    179       0.067  \n",
       "4       Global results        NaN    947       0.354  \n",
       "5                  Web   Facebook      0       0.000  \n",
       "6                  Web  Instagram      0       0.000  \n",
       "7                  Web   Snapchat      0       0.000  \n",
       "8                  Web    Twitter      0       0.000  \n",
       "9                  Web        NaN      2       1.000  \n",
       "10       Female voters   Facebook    222       0.199  \n",
       "11       Female voters  Instagram    535       0.480  \n",
       "12       Female voters   Snapchat     29       0.026  \n",
       "13       Female voters    Twitter     57       0.051  \n",
       "14       Female voters        NaN    271       0.243  "
      ]
     },
     "execution_count": 12,
     "metadata": {},
     "output_type": "execute_result"
    }
   ],
   "source": [
    "# check first ten rows of data\n",
    "df.head(15)"
   ]
  },
  {
   "cell_type": "code",
   "execution_count": 13,
   "id": "8c6525da",
   "metadata": {},
   "outputs": [
    {
     "data": {
      "text/html": [
       "<div>\n",
       "<style scoped>\n",
       "    .dataframe tbody tr th:only-of-type {\n",
       "        vertical-align: middle;\n",
       "    }\n",
       "\n",
       "    .dataframe tbody tr th {\n",
       "        vertical-align: top;\n",
       "    }\n",
       "\n",
       "    .dataframe thead th {\n",
       "        text-align: right;\n",
       "    }\n",
       "</style>\n",
       "<table border=\"1\" class=\"dataframe\">\n",
       "  <thead>\n",
       "    <tr style=\"text-align: right;\">\n",
       "      <th></th>\n",
       "      <th>Question</th>\n",
       "      <th>Segment Type</th>\n",
       "      <th>Segment Description</th>\n",
       "      <th>Answer</th>\n",
       "      <th>Count</th>\n",
       "      <th>Percentage</th>\n",
       "    </tr>\n",
       "  </thead>\n",
       "  <tbody>\n",
       "    <tr>\n",
       "      <th>1435</th>\n",
       "      <td>What social platform has influenced your onlin...</td>\n",
       "      <td>Custom</td>\n",
       "      <td>Graduation Year 2020</td>\n",
       "      <td>Facebook</td>\n",
       "      <td>74</td>\n",
       "      <td>0.155</td>\n",
       "    </tr>\n",
       "    <tr>\n",
       "      <th>1436</th>\n",
       "      <td>What social platform has influenced your onlin...</td>\n",
       "      <td>Custom</td>\n",
       "      <td>Graduation Year 2020</td>\n",
       "      <td>Instagram</td>\n",
       "      <td>150</td>\n",
       "      <td>0.314</td>\n",
       "    </tr>\n",
       "    <tr>\n",
       "      <th>1437</th>\n",
       "      <td>What social platform has influenced your onlin...</td>\n",
       "      <td>Custom</td>\n",
       "      <td>Graduation Year 2020</td>\n",
       "      <td>Snapchat</td>\n",
       "      <td>15</td>\n",
       "      <td>0.031</td>\n",
       "    </tr>\n",
       "    <tr>\n",
       "      <th>1438</th>\n",
       "      <td>What social platform has influenced your onlin...</td>\n",
       "      <td>Custom</td>\n",
       "      <td>Graduation Year 2020</td>\n",
       "      <td>Twitter</td>\n",
       "      <td>47</td>\n",
       "      <td>0.099</td>\n",
       "    </tr>\n",
       "    <tr>\n",
       "      <th>1439</th>\n",
       "      <td>What social platform has influenced your onlin...</td>\n",
       "      <td>Custom</td>\n",
       "      <td>Graduation Year 2020</td>\n",
       "      <td>NaN</td>\n",
       "      <td>191</td>\n",
       "      <td>0.400</td>\n",
       "    </tr>\n",
       "    <tr>\n",
       "      <th>1440</th>\n",
       "      <td>What social platform has influenced your onlin...</td>\n",
       "      <td>Custom</td>\n",
       "      <td>closely identify as? White</td>\n",
       "      <td>Facebook</td>\n",
       "      <td>352</td>\n",
       "      <td>0.224</td>\n",
       "    </tr>\n",
       "    <tr>\n",
       "      <th>1441</th>\n",
       "      <td>What social platform has influenced your onlin...</td>\n",
       "      <td>Custom</td>\n",
       "      <td>closely identify as? White</td>\n",
       "      <td>Instagram</td>\n",
       "      <td>498</td>\n",
       "      <td>0.317</td>\n",
       "    </tr>\n",
       "    <tr>\n",
       "      <th>1442</th>\n",
       "      <td>What social platform has influenced your onlin...</td>\n",
       "      <td>Custom</td>\n",
       "      <td>closely identify as? White</td>\n",
       "      <td>Snapchat</td>\n",
       "      <td>47</td>\n",
       "      <td>0.030</td>\n",
       "    </tr>\n",
       "    <tr>\n",
       "      <th>1443</th>\n",
       "      <td>What social platform has influenced your onlin...</td>\n",
       "      <td>Custom</td>\n",
       "      <td>closely identify as? White</td>\n",
       "      <td>Twitter</td>\n",
       "      <td>102</td>\n",
       "      <td>0.065</td>\n",
       "    </tr>\n",
       "    <tr>\n",
       "      <th>1444</th>\n",
       "      <td>What social platform has influenced your onlin...</td>\n",
       "      <td>Custom</td>\n",
       "      <td>closely identify as? White</td>\n",
       "      <td>NaN</td>\n",
       "      <td>573</td>\n",
       "      <td>0.365</td>\n",
       "    </tr>\n",
       "    <tr>\n",
       "      <th>1445</th>\n",
       "      <td>What social platform has influenced your onlin...</td>\n",
       "      <td>Custom</td>\n",
       "      <td>Sexual orientation? Straight</td>\n",
       "      <td>Facebook</td>\n",
       "      <td>215</td>\n",
       "      <td>0.180</td>\n",
       "    </tr>\n",
       "    <tr>\n",
       "      <th>1446</th>\n",
       "      <td>What social platform has influenced your onlin...</td>\n",
       "      <td>Custom</td>\n",
       "      <td>Sexual orientation? Straight</td>\n",
       "      <td>Instagram</td>\n",
       "      <td>354</td>\n",
       "      <td>0.297</td>\n",
       "    </tr>\n",
       "    <tr>\n",
       "      <th>1447</th>\n",
       "      <td>What social platform has influenced your onlin...</td>\n",
       "      <td>Custom</td>\n",
       "      <td>Sexual orientation? Straight</td>\n",
       "      <td>Snapchat</td>\n",
       "      <td>44</td>\n",
       "      <td>0.037</td>\n",
       "    </tr>\n",
       "    <tr>\n",
       "      <th>1448</th>\n",
       "      <td>What social platform has influenced your onlin...</td>\n",
       "      <td>Custom</td>\n",
       "      <td>Sexual orientation? Straight</td>\n",
       "      <td>Twitter</td>\n",
       "      <td>88</td>\n",
       "      <td>0.074</td>\n",
       "    </tr>\n",
       "    <tr>\n",
       "      <th>1449</th>\n",
       "      <td>What social platform has influenced your onlin...</td>\n",
       "      <td>Custom</td>\n",
       "      <td>Sexual orientation? Straight</td>\n",
       "      <td>NaN</td>\n",
       "      <td>492</td>\n",
       "      <td>0.412</td>\n",
       "    </tr>\n",
       "  </tbody>\n",
       "</table>\n",
       "</div>"
      ],
      "text/plain": [
       "                                               Question Segment Type  \\\n",
       "1435  What social platform has influenced your onlin...       Custom   \n",
       "1436  What social platform has influenced your onlin...       Custom   \n",
       "1437  What social platform has influenced your onlin...       Custom   \n",
       "1438  What social platform has influenced your onlin...       Custom   \n",
       "1439  What social platform has influenced your onlin...       Custom   \n",
       "1440  What social platform has influenced your onlin...       Custom   \n",
       "1441  What social platform has influenced your onlin...       Custom   \n",
       "1442  What social platform has influenced your onlin...       Custom   \n",
       "1443  What social platform has influenced your onlin...       Custom   \n",
       "1444  What social platform has influenced your onlin...       Custom   \n",
       "1445  What social platform has influenced your onlin...       Custom   \n",
       "1446  What social platform has influenced your onlin...       Custom   \n",
       "1447  What social platform has influenced your onlin...       Custom   \n",
       "1448  What social platform has influenced your onlin...       Custom   \n",
       "1449  What social platform has influenced your onlin...       Custom   \n",
       "\n",
       "               Segment Description     Answer  Count  Percentage  \n",
       "1435          Graduation Year 2020   Facebook     74       0.155  \n",
       "1436          Graduation Year 2020  Instagram    150       0.314  \n",
       "1437          Graduation Year 2020   Snapchat     15       0.031  \n",
       "1438          Graduation Year 2020    Twitter     47       0.099  \n",
       "1439          Graduation Year 2020        NaN    191       0.400  \n",
       "1440    closely identify as? White   Facebook    352       0.224  \n",
       "1441    closely identify as? White  Instagram    498       0.317  \n",
       "1442    closely identify as? White   Snapchat     47       0.030  \n",
       "1443    closely identify as? White    Twitter    102       0.065  \n",
       "1444    closely identify as? White        NaN    573       0.365  \n",
       "1445  Sexual orientation? Straight   Facebook    215       0.180  \n",
       "1446  Sexual orientation? Straight  Instagram    354       0.297  \n",
       "1447  Sexual orientation? Straight   Snapchat     44       0.037  \n",
       "1448  Sexual orientation? Straight    Twitter     88       0.074  \n",
       "1449  Sexual orientation? Straight        NaN    492       0.412  "
      ]
     },
     "execution_count": 13,
     "metadata": {},
     "output_type": "execute_result"
    }
   ],
   "source": [
    "# see the last 10 rows of the dataset\n",
    "df.tail(15)"
   ]
  },
  {
   "cell_type": "code",
   "execution_count": 14,
   "id": "583bf7a2",
   "metadata": {},
   "outputs": [
    {
     "name": "stdout",
     "output_type": "stream",
     "text": [
      "<class 'pandas.core.frame.DataFrame'>\n",
      "RangeIndex: 1450 entries, 0 to 1449\n",
      "Data columns (total 6 columns):\n",
      " #   Column               Non-Null Count  Dtype  \n",
      "---  ------               --------------  -----  \n",
      " 0   Question             1450 non-null   object \n",
      " 1   Segment Type         1450 non-null   object \n",
      " 2   Segment Description  1450 non-null   object \n",
      " 3   Answer               1160 non-null   object \n",
      " 4   Count                1450 non-null   int64  \n",
      " 5   Percentage           1450 non-null   float64\n",
      "dtypes: float64(1), int64(1), object(4)\n",
      "memory usage: 68.1+ KB\n"
     ]
    }
   ],
   "source": [
    "#check the info of data\n",
    "df.info()"
   ]
  },
  {
   "cell_type": "code",
   "execution_count": 15,
   "id": "7ae50d44",
   "metadata": {},
   "outputs": [
    {
     "name": "stdout",
     "output_type": "stream",
     "text": [
      "This dataset has 1450 row and 6 columns\n"
     ]
    }
   ],
   "source": [
    "print(f'This dataset has {df.shape[0]} row and {df.shape[1]} columns')"
   ]
  },
  {
   "cell_type": "code",
   "execution_count": 16,
   "id": "13024245",
   "metadata": {},
   "outputs": [
    {
     "name": "stdout",
     "output_type": "stream",
     "text": [
      "This dataset has different columns names are:Index(['Question', 'Segment Type', 'Segment Description', 'Answer', 'Count',\n",
      "       'Percentage'],\n",
      "      dtype='object')\n"
     ]
    }
   ],
   "source": [
    "print(f'This dataset has different columns names are:{df.columns}')"
   ]
  },
  {
   "cell_type": "code",
   "execution_count": 17,
   "id": "750a2db0",
   "metadata": {},
   "outputs": [
    {
     "data": {
      "text/plain": [
       "array(['Mobile', 'Web', 'Gender', 'University', 'Custom'], dtype=object)"
      ]
     },
     "execution_count": 17,
     "metadata": {},
     "output_type": "execute_result"
    }
   ],
   "source": [
    "# check unique values in column \"Segment Type\"              \n",
    "df['Segment Type'].unique()"
   ]
  },
  {
   "cell_type": "code",
   "execution_count": 18,
   "id": "04ddba4f",
   "metadata": {},
   "outputs": [
    {
     "data": {
      "text/plain": [
       "array(['What social platform has influenced your online shopping most?'],\n",
       "      dtype=object)"
      ]
     },
     "execution_count": 18,
     "metadata": {},
     "output_type": "execute_result"
    }
   ],
   "source": [
    "# check unique values in column `Question`\n",
    "df['Question'].unique()"
   ]
  },
  {
   "cell_type": "code",
   "execution_count": 19,
   "id": "0868742d",
   "metadata": {},
   "outputs": [
    {
     "data": {
      "text/plain": [
       "array(['Facebook', 'Instagram', 'Snapchat', 'Twitter', nan], dtype=object)"
      ]
     },
     "execution_count": 19,
     "metadata": {},
     "output_type": "execute_result"
    }
   ],
   "source": [
    "# Check unique values in column `Answer`\n",
    "df['Answer'].unique()"
   ]
  },
  {
   "cell_type": "markdown",
   "id": "e5617daf",
   "metadata": {},
   "source": [
    "#### Dealing with missing values"
   ]
  },
  {
   "cell_type": "code",
   "execution_count": 20,
   "id": "39a50376",
   "metadata": {},
   "outputs": [
    {
     "data": {
      "text/plain": [
       "Answer                 290\n",
       "Question                 0\n",
       "Segment Type             0\n",
       "Segment Description      0\n",
       "Count                    0\n",
       "Percentage               0\n",
       "dtype: int64"
      ]
     },
     "execution_count": 20,
     "metadata": {},
     "output_type": "execute_result"
    }
   ],
   "source": [
    "df.isnull().sum().sort_values(ascending=False)"
   ]
  },
  {
   "cell_type": "code",
   "execution_count": 21,
   "id": "f0d32e5f",
   "metadata": {},
   "outputs": [
    {
     "data": {
      "text/plain": [
       "Text(0.5, 1.0, 'Missing values')"
      ]
     },
     "execution_count": 21,
     "metadata": {},
     "output_type": "execute_result"
    },
    {
     "data": {
      "image/png": "[encoded data removed]",
      "text/plain": [
       "<Figure size 1600x700 with 1 Axes>"
      ]
     },
     "metadata": {},
     "output_type": "display_data"
    }
   ],
   "source": [
    "plt.figure(figsize=(16,7))\n",
    "sns.heatmap(df.isnull(),cbar=False,cmap='viridis', yticklabels=False)\n",
    "plt.title('Missing values')"
   ]
  },
  {
   "cell_type": "markdown",
   "id": "23a374f8",
   "metadata": {},
   "source": [
    "**Figure 1: Visualization of missing values in the dataset"
   ]
  },
  {
   "cell_type": "code",
   "execution_count": 22,
   "id": "8036dcca",
   "metadata": {},
   "outputs": [
    {
     "data": {
      "text/html": [
       "<div>\n",
       "<style scoped>\n",
       "    .dataframe tbody tr th:only-of-type {\n",
       "        vertical-align: middle;\n",
       "    }\n",
       "\n",
       "    .dataframe tbody tr th {\n",
       "        vertical-align: top;\n",
       "    }\n",
       "\n",
       "    .dataframe thead th {\n",
       "        text-align: right;\n",
       "    }\n",
       "</style>\n",
       "<table border=\"1\" class=\"dataframe\">\n",
       "  <thead>\n",
       "    <tr style=\"text-align: right;\">\n",
       "      <th></th>\n",
       "      <th>Question</th>\n",
       "      <th>Segment Type</th>\n",
       "      <th>Segment Description</th>\n",
       "      <th>Answer</th>\n",
       "      <th>Count</th>\n",
       "      <th>Percentage</th>\n",
       "    </tr>\n",
       "  </thead>\n",
       "  <tbody>\n",
       "    <tr>\n",
       "      <th>4</th>\n",
       "      <td>What social platform has influenced your onlin...</td>\n",
       "      <td>Mobile</td>\n",
       "      <td>Global results</td>\n",
       "      <td>NaN</td>\n",
       "      <td>947</td>\n",
       "      <td>0.354</td>\n",
       "    </tr>\n",
       "    <tr>\n",
       "      <th>9</th>\n",
       "      <td>What social platform has influenced your onlin...</td>\n",
       "      <td>Web</td>\n",
       "      <td>Web</td>\n",
       "      <td>NaN</td>\n",
       "      <td>2</td>\n",
       "      <td>1.000</td>\n",
       "    </tr>\n",
       "    <tr>\n",
       "      <th>14</th>\n",
       "      <td>What social platform has influenced your onlin...</td>\n",
       "      <td>Gender</td>\n",
       "      <td>Female voters</td>\n",
       "      <td>NaN</td>\n",
       "      <td>271</td>\n",
       "      <td>0.243</td>\n",
       "    </tr>\n",
       "    <tr>\n",
       "      <th>19</th>\n",
       "      <td>What social platform has influenced your onlin...</td>\n",
       "      <td>Gender</td>\n",
       "      <td>Male voters</td>\n",
       "      <td>NaN</td>\n",
       "      <td>678</td>\n",
       "      <td>0.434</td>\n",
       "    </tr>\n",
       "    <tr>\n",
       "      <th>24</th>\n",
       "      <td>What social platform has influenced your onlin...</td>\n",
       "      <td>University</td>\n",
       "      <td>University of Delaware</td>\n",
       "      <td>NaN</td>\n",
       "      <td>1</td>\n",
       "      <td>0.333</td>\n",
       "    </tr>\n",
       "    <tr>\n",
       "      <th>29</th>\n",
       "      <td>What social platform has influenced your onlin...</td>\n",
       "      <td>University</td>\n",
       "      <td>University of Pennsylvania</td>\n",
       "      <td>NaN</td>\n",
       "      <td>2</td>\n",
       "      <td>0.500</td>\n",
       "    </tr>\n",
       "    <tr>\n",
       "      <th>34</th>\n",
       "      <td>What social platform has influenced your onlin...</td>\n",
       "      <td>University</td>\n",
       "      <td>Students of New York</td>\n",
       "      <td>NaN</td>\n",
       "      <td>18</td>\n",
       "      <td>0.400</td>\n",
       "    </tr>\n",
       "    <tr>\n",
       "      <th>39</th>\n",
       "      <td>What social platform has influenced your onlin...</td>\n",
       "      <td>University</td>\n",
       "      <td>University of Central Arkansas</td>\n",
       "      <td>NaN</td>\n",
       "      <td>0</td>\n",
       "      <td>0.000</td>\n",
       "    </tr>\n",
       "    <tr>\n",
       "      <th>44</th>\n",
       "      <td>What social platform has influenced your onlin...</td>\n",
       "      <td>University</td>\n",
       "      <td>Northeastern University</td>\n",
       "      <td>NaN</td>\n",
       "      <td>1</td>\n",
       "      <td>0.500</td>\n",
       "    </tr>\n",
       "    <tr>\n",
       "      <th>49</th>\n",
       "      <td>What social platform has influenced your onlin...</td>\n",
       "      <td>University</td>\n",
       "      <td>West Virginia University</td>\n",
       "      <td>NaN</td>\n",
       "      <td>2</td>\n",
       "      <td>1.000</td>\n",
       "    </tr>\n",
       "  </tbody>\n",
       "</table>\n",
       "</div>"
      ],
      "text/plain": [
       "                                             Question Segment Type  \\\n",
       "4   What social platform has influenced your onlin...       Mobile   \n",
       "9   What social platform has influenced your onlin...          Web   \n",
       "14  What social platform has influenced your onlin...       Gender   \n",
       "19  What social platform has influenced your onlin...       Gender   \n",
       "24  What social platform has influenced your onlin...   University   \n",
       "29  What social platform has influenced your onlin...   University   \n",
       "34  What social platform has influenced your onlin...   University   \n",
       "39  What social platform has influenced your onlin...   University   \n",
       "44  What social platform has influenced your onlin...   University   \n",
       "49  What social platform has influenced your onlin...   University   \n",
       "\n",
       "               Segment Description Answer  Count  Percentage  \n",
       "4                   Global results    NaN    947       0.354  \n",
       "9                              Web    NaN      2       1.000  \n",
       "14                   Female voters    NaN    271       0.243  \n",
       "19                     Male voters    NaN    678       0.434  \n",
       "24          University of Delaware    NaN      1       0.333  \n",
       "29      University of Pennsylvania    NaN      2       0.500  \n",
       "34            Students of New York    NaN     18       0.400  \n",
       "39  University of Central Arkansas    NaN      0       0.000  \n",
       "44         Northeastern University    NaN      1       0.500  \n",
       "49       West Virginia University     NaN      2       1.000  "
      ]
     },
     "execution_count": 22,
     "metadata": {},
     "output_type": "execute_result"
    }
   ],
   "source": [
    "# Check the  top 10rows of missing values in dataset\n",
    "df[df['Answer'].isnull()].head(10)"
   ]
  },
  {
   "cell_type": "code",
   "execution_count": 23,
   "id": "d145635d",
   "metadata": {},
   "outputs": [
    {
     "data": {
      "text/plain": [
       "array(['Facebook', 'Instagram', 'Snapchat', 'Twitter', nan], dtype=object)"
      ]
     },
     "execution_count": 23,
     "metadata": {},
     "output_type": "execute_result"
    }
   ],
   "source": [
    "# Check the unique values of the 'Answer' column\n",
    "df['Answer'].unique()"
   ]
  },
  {
   "cell_type": "code",
   "execution_count": 24,
   "id": "419d947b",
   "metadata": {},
   "outputs": [
    {
     "data": {
      "text/plain": [
       "Answer\n",
       "Facebook     290\n",
       "Instagram    290\n",
       "Snapchat     290\n",
       "Twitter      290\n",
       "Name: count, dtype: int64"
      ]
     },
     "execution_count": 24,
     "metadata": {},
     "output_type": "execute_result"
    }
   ],
   "source": [
    "# see the value count of each value in `Answer` column\n",
    "df['Answer'].value_counts()"
   ]
  },
  {
   "cell_type": "code",
   "execution_count": 25,
   "id": "a2203618",
   "metadata": {},
   "outputs": [
    {
     "data": {
      "text/plain": [
       "289"
      ]
     },
     "execution_count": 25,
     "metadata": {},
     "output_type": "execute_result"
    }
   ],
   "source": [
    "df['Segment Description'].nunique()"
   ]
  },
  {
   "cell_type": "markdown",
   "id": "3805461e",
   "metadata": {},
   "source": [
    "***Replacing Null values with No_Answer"
   ]
  },
  {
   "cell_type": "code",
   "execution_count": 26,
   "id": "594f7af8",
   "metadata": {},
   "outputs": [],
   "source": [
    "# Replacing the null values with No_Answer\n",
    "df=df.fillna(\"No_Answer\")"
   ]
  },
  {
   "cell_type": "code",
   "execution_count": 27,
   "id": "3e4bd33f",
   "metadata": {},
   "outputs": [
    {
     "data": {
      "text/html": [
       "<div>\n",
       "<style scoped>\n",
       "    .dataframe tbody tr th:only-of-type {\n",
       "        vertical-align: middle;\n",
       "    }\n",
       "\n",
       "    .dataframe tbody tr th {\n",
       "        vertical-align: top;\n",
       "    }\n",
       "\n",
       "    .dataframe thead th {\n",
       "        text-align: right;\n",
       "    }\n",
       "</style>\n",
       "<table border=\"1\" class=\"dataframe\">\n",
       "  <thead>\n",
       "    <tr style=\"text-align: right;\">\n",
       "      <th></th>\n",
       "      <th>Question</th>\n",
       "      <th>Segment Type</th>\n",
       "      <th>Segment Description</th>\n",
       "      <th>Answer</th>\n",
       "      <th>Count</th>\n",
       "      <th>Percentage</th>\n",
       "    </tr>\n",
       "  </thead>\n",
       "  <tbody>\n",
       "    <tr>\n",
       "      <th>0</th>\n",
       "      <td>What social platform has influenced your onlin...</td>\n",
       "      <td>Mobile</td>\n",
       "      <td>Global results</td>\n",
       "      <td>Facebook</td>\n",
       "      <td>548</td>\n",
       "      <td>0.205</td>\n",
       "    </tr>\n",
       "    <tr>\n",
       "      <th>1</th>\n",
       "      <td>What social platform has influenced your onlin...</td>\n",
       "      <td>Mobile</td>\n",
       "      <td>Global results</td>\n",
       "      <td>Instagram</td>\n",
       "      <td>916</td>\n",
       "      <td>0.342</td>\n",
       "    </tr>\n",
       "    <tr>\n",
       "      <th>2</th>\n",
       "      <td>What social platform has influenced your onlin...</td>\n",
       "      <td>Mobile</td>\n",
       "      <td>Global results</td>\n",
       "      <td>Snapchat</td>\n",
       "      <td>86</td>\n",
       "      <td>0.032</td>\n",
       "    </tr>\n",
       "    <tr>\n",
       "      <th>3</th>\n",
       "      <td>What social platform has influenced your onlin...</td>\n",
       "      <td>Mobile</td>\n",
       "      <td>Global results</td>\n",
       "      <td>Twitter</td>\n",
       "      <td>179</td>\n",
       "      <td>0.067</td>\n",
       "    </tr>\n",
       "    <tr>\n",
       "      <th>4</th>\n",
       "      <td>What social platform has influenced your onlin...</td>\n",
       "      <td>Mobile</td>\n",
       "      <td>Global results</td>\n",
       "      <td>No_Answer</td>\n",
       "      <td>947</td>\n",
       "      <td>0.354</td>\n",
       "    </tr>\n",
       "    <tr>\n",
       "      <th>5</th>\n",
       "      <td>What social platform has influenced your onlin...</td>\n",
       "      <td>Web</td>\n",
       "      <td>Web</td>\n",
       "      <td>Facebook</td>\n",
       "      <td>0</td>\n",
       "      <td>0.000</td>\n",
       "    </tr>\n",
       "    <tr>\n",
       "      <th>6</th>\n",
       "      <td>What social platform has influenced your onlin...</td>\n",
       "      <td>Web</td>\n",
       "      <td>Web</td>\n",
       "      <td>Instagram</td>\n",
       "      <td>0</td>\n",
       "      <td>0.000</td>\n",
       "    </tr>\n",
       "    <tr>\n",
       "      <th>7</th>\n",
       "      <td>What social platform has influenced your onlin...</td>\n",
       "      <td>Web</td>\n",
       "      <td>Web</td>\n",
       "      <td>Snapchat</td>\n",
       "      <td>0</td>\n",
       "      <td>0.000</td>\n",
       "    </tr>\n",
       "    <tr>\n",
       "      <th>8</th>\n",
       "      <td>What social platform has influenced your onlin...</td>\n",
       "      <td>Web</td>\n",
       "      <td>Web</td>\n",
       "      <td>Twitter</td>\n",
       "      <td>0</td>\n",
       "      <td>0.000</td>\n",
       "    </tr>\n",
       "    <tr>\n",
       "      <th>9</th>\n",
       "      <td>What social platform has influenced your onlin...</td>\n",
       "      <td>Web</td>\n",
       "      <td>Web</td>\n",
       "      <td>No_Answer</td>\n",
       "      <td>2</td>\n",
       "      <td>1.000</td>\n",
       "    </tr>\n",
       "  </tbody>\n",
       "</table>\n",
       "</div>"
      ],
      "text/plain": [
       "                                            Question Segment Type  \\\n",
       "0  What social platform has influenced your onlin...       Mobile   \n",
       "1  What social platform has influenced your onlin...       Mobile   \n",
       "2  What social platform has influenced your onlin...       Mobile   \n",
       "3  What social platform has influenced your onlin...       Mobile   \n",
       "4  What social platform has influenced your onlin...       Mobile   \n",
       "5  What social platform has influenced your onlin...          Web   \n",
       "6  What social platform has influenced your onlin...          Web   \n",
       "7  What social platform has influenced your onlin...          Web   \n",
       "8  What social platform has influenced your onlin...          Web   \n",
       "9  What social platform has influenced your onlin...          Web   \n",
       "\n",
       "  Segment Description     Answer  Count  Percentage  \n",
       "0      Global results   Facebook    548       0.205  \n",
       "1      Global results  Instagram    916       0.342  \n",
       "2      Global results   Snapchat     86       0.032  \n",
       "3      Global results    Twitter    179       0.067  \n",
       "4      Global results  No_Answer    947       0.354  \n",
       "5                 Web   Facebook      0       0.000  \n",
       "6                 Web  Instagram      0       0.000  \n",
       "7                 Web   Snapchat      0       0.000  \n",
       "8                 Web    Twitter      0       0.000  \n",
       "9                 Web  No_Answer      2       1.000  "
      ]
     },
     "execution_count": 27,
     "metadata": {},
     "output_type": "execute_result"
    }
   ],
   "source": [
    "# Check the first 10 rows of the dataset after filling null values\n",
    "df.head(10)"
   ]
  },
  {
   "cell_type": "markdown",
   "id": "f8de2897",
   "metadata": {},
   "source": [
    "**\"Missing values problem in the dataset has been resolved\""
   ]
  },
  {
   "cell_type": "markdown",
   "id": "3af9bdc8",
   "metadata": {},
   "source": [
    "#### Dealing with Duplicate values"
   ]
  },
  {
   "cell_type": "code",
   "execution_count": 28,
   "id": "5fd92345",
   "metadata": {},
   "outputs": [
    {
     "data": {
      "text/plain": [
       "False"
      ]
     },
     "execution_count": 28,
     "metadata": {},
     "output_type": "execute_result"
    }
   ],
   "source": [
    "# Check the duplicated values in whole dataset\n",
    "df.duplicated().any()"
   ]
  },
  {
   "cell_type": "code",
   "execution_count": 29,
   "id": "22ae01e4",
   "metadata": {},
   "outputs": [
    {
     "data": {
      "text/plain": [
       "289"
      ]
     },
     "execution_count": 29,
     "metadata": {},
     "output_type": "execute_result"
    }
   ],
   "source": [
    "df['Segment Description'].nunique()"
   ]
  },
  {
   "cell_type": "code",
   "execution_count": 30,
   "id": "70e308cb",
   "metadata": {},
   "outputs": [
    {
     "data": {
      "text/plain": [
       "Answer\n",
       "Facebook     290\n",
       "Instagram    290\n",
       "Snapchat     290\n",
       "Twitter      290\n",
       "No_Answer    290\n",
       "Name: count, dtype: int64"
      ]
     },
     "execution_count": 30,
     "metadata": {},
     "output_type": "execute_result"
    }
   ],
   "source": [
    "df['Answer'].value_counts()"
   ]
  },
  {
   "cell_type": "code",
   "execution_count": 31,
   "id": "a6d06d28",
   "metadata": {},
   "outputs": [
    {
     "data": {
      "text/plain": [
       "Segment Description\n",
       "What's your major? Other    10\n",
       "Name: count, dtype: int64"
      ]
     },
     "execution_count": 31,
     "metadata": {},
     "output_type": "execute_result"
    }
   ],
   "source": [
    "# Check the value in column 'Segment Description' that occurs more than 5 times\n",
    "df['Segment Description'].value_counts()[df['Segment Description'].value_counts() > 5]"
   ]
  },
  {
   "cell_type": "code",
   "execution_count": 32,
   "id": "09bc917c",
   "metadata": {},
   "outputs": [
    {
     "data": {
      "text/plain": [
       "1300"
      ]
     },
     "execution_count": 32,
     "metadata": {},
     "output_type": "execute_result"
    }
   ],
   "source": [
    "# See the index number of duplicate row in Segment Description column\n",
    "df[df['Segment Description'] == \"What's your major? Other\"].index[0]"
   ]
  },
  {
   "cell_type": "code",
   "execution_count": 33,
   "id": "0b06b92a",
   "metadata": {},
   "outputs": [
    {
     "data": {
      "text/plain": [
       "1375"
      ]
     },
     "execution_count": 33,
     "metadata": {},
     "output_type": "execute_result"
    }
   ],
   "source": [
    "# see if there is a way to get the index of the row with the value \"What's your major? Other\"\n",
    "df[df['Segment Description'] == \"What's your major? Other\"].index[5]"
   ]
  },
  {
   "cell_type": "code",
   "execution_count": 34,
   "id": "de9653f3",
   "metadata": {},
   "outputs": [
    {
     "data": {
      "text/html": [
       "<div>\n",
       "<style scoped>\n",
       "    .dataframe tbody tr th:only-of-type {\n",
       "        vertical-align: middle;\n",
       "    }\n",
       "\n",
       "    .dataframe tbody tr th {\n",
       "        vertical-align: top;\n",
       "    }\n",
       "\n",
       "    .dataframe thead th {\n",
       "        text-align: right;\n",
       "    }\n",
       "</style>\n",
       "<table border=\"1\" class=\"dataframe\">\n",
       "  <thead>\n",
       "    <tr style=\"text-align: right;\">\n",
       "      <th></th>\n",
       "      <th>Question</th>\n",
       "      <th>Segment Type</th>\n",
       "      <th>Segment Description</th>\n",
       "      <th>Answer</th>\n",
       "      <th>Count</th>\n",
       "      <th>Percentage</th>\n",
       "    </tr>\n",
       "  </thead>\n",
       "  <tbody>\n",
       "    <tr>\n",
       "      <th>1300</th>\n",
       "      <td>What social platform has influenced your onlin...</td>\n",
       "      <td>Custom</td>\n",
       "      <td>What's your major? Other</td>\n",
       "      <td>Facebook</td>\n",
       "      <td>31</td>\n",
       "      <td>0.242</td>\n",
       "    </tr>\n",
       "    <tr>\n",
       "      <th>1301</th>\n",
       "      <td>What social platform has influenced your onlin...</td>\n",
       "      <td>Custom</td>\n",
       "      <td>What's your major? Other</td>\n",
       "      <td>Instagram</td>\n",
       "      <td>32</td>\n",
       "      <td>0.250</td>\n",
       "    </tr>\n",
       "    <tr>\n",
       "      <th>1302</th>\n",
       "      <td>What social platform has influenced your onlin...</td>\n",
       "      <td>Custom</td>\n",
       "      <td>What's your major? Other</td>\n",
       "      <td>Snapchat</td>\n",
       "      <td>3</td>\n",
       "      <td>0.023</td>\n",
       "    </tr>\n",
       "    <tr>\n",
       "      <th>1303</th>\n",
       "      <td>What social platform has influenced your onlin...</td>\n",
       "      <td>Custom</td>\n",
       "      <td>What's your major? Other</td>\n",
       "      <td>Twitter</td>\n",
       "      <td>7</td>\n",
       "      <td>0.055</td>\n",
       "    </tr>\n",
       "    <tr>\n",
       "      <th>1304</th>\n",
       "      <td>What social platform has influenced your onlin...</td>\n",
       "      <td>Custom</td>\n",
       "      <td>What's your major? Other</td>\n",
       "      <td>No_Answer</td>\n",
       "      <td>55</td>\n",
       "      <td>0.430</td>\n",
       "    </tr>\n",
       "  </tbody>\n",
       "</table>\n",
       "</div>"
      ],
      "text/plain": [
       "                                               Question Segment Type  \\\n",
       "1300  What social platform has influenced your onlin...       Custom   \n",
       "1301  What social platform has influenced your onlin...       Custom   \n",
       "1302  What social platform has influenced your onlin...       Custom   \n",
       "1303  What social platform has influenced your onlin...       Custom   \n",
       "1304  What social platform has influenced your onlin...       Custom   \n",
       "\n",
       "           Segment Description     Answer  Count  Percentage  \n",
       "1300  What's your major? Other   Facebook     31       0.242  \n",
       "1301  What's your major? Other  Instagram     32       0.250  \n",
       "1302  What's your major? Other   Snapchat      3       0.023  \n",
       "1303  What's your major? Other    Twitter      7       0.055  \n",
       "1304  What's your major? Other  No_Answer     55       0.430  "
      ]
     },
     "execution_count": 34,
     "metadata": {},
     "output_type": "execute_result"
    }
   ],
   "source": [
    "# Check the location of `What's your major? Other` value in the dataset.\n",
    "df.iloc[1300:1305]"
   ]
  },
  {
   "cell_type": "code",
   "execution_count": 35,
   "id": "37bd983a",
   "metadata": {},
   "outputs": [
    {
     "data": {
      "text/html": [
       "<div>\n",
       "<style scoped>\n",
       "    .dataframe tbody tr th:only-of-type {\n",
       "        vertical-align: middle;\n",
       "    }\n",
       "\n",
       "    .dataframe tbody tr th {\n",
       "        vertical-align: top;\n",
       "    }\n",
       "\n",
       "    .dataframe thead th {\n",
       "        text-align: right;\n",
       "    }\n",
       "</style>\n",
       "<table border=\"1\" class=\"dataframe\">\n",
       "  <thead>\n",
       "    <tr style=\"text-align: right;\">\n",
       "      <th></th>\n",
       "      <th>Question</th>\n",
       "      <th>Segment Type</th>\n",
       "      <th>Segment Description</th>\n",
       "      <th>Answer</th>\n",
       "      <th>Count</th>\n",
       "      <th>Percentage</th>\n",
       "    </tr>\n",
       "  </thead>\n",
       "  <tbody>\n",
       "    <tr>\n",
       "      <th>1375</th>\n",
       "      <td>What social platform has influenced your onlin...</td>\n",
       "      <td>Custom</td>\n",
       "      <td>What's your major? Other</td>\n",
       "      <td>Facebook</td>\n",
       "      <td>88</td>\n",
       "      <td>0.209</td>\n",
       "    </tr>\n",
       "    <tr>\n",
       "      <th>1376</th>\n",
       "      <td>What social platform has influenced your onlin...</td>\n",
       "      <td>Custom</td>\n",
       "      <td>What's your major? Other</td>\n",
       "      <td>Instagram</td>\n",
       "      <td>156</td>\n",
       "      <td>0.370</td>\n",
       "    </tr>\n",
       "    <tr>\n",
       "      <th>1377</th>\n",
       "      <td>What social platform has influenced your onlin...</td>\n",
       "      <td>Custom</td>\n",
       "      <td>What's your major? Other</td>\n",
       "      <td>Snapchat</td>\n",
       "      <td>9</td>\n",
       "      <td>0.021</td>\n",
       "    </tr>\n",
       "    <tr>\n",
       "      <th>1378</th>\n",
       "      <td>What social platform has influenced your onlin...</td>\n",
       "      <td>Custom</td>\n",
       "      <td>What's your major? Other</td>\n",
       "      <td>Twitter</td>\n",
       "      <td>26</td>\n",
       "      <td>0.062</td>\n",
       "    </tr>\n",
       "    <tr>\n",
       "      <th>1379</th>\n",
       "      <td>What social platform has influenced your onlin...</td>\n",
       "      <td>Custom</td>\n",
       "      <td>What's your major? Other</td>\n",
       "      <td>No_Answer</td>\n",
       "      <td>143</td>\n",
       "      <td>0.339</td>\n",
       "    </tr>\n",
       "  </tbody>\n",
       "</table>\n",
       "</div>"
      ],
      "text/plain": [
       "                                               Question Segment Type  \\\n",
       "1375  What social platform has influenced your onlin...       Custom   \n",
       "1376  What social platform has influenced your onlin...       Custom   \n",
       "1377  What social platform has influenced your onlin...       Custom   \n",
       "1378  What social platform has influenced your onlin...       Custom   \n",
       "1379  What social platform has influenced your onlin...       Custom   \n",
       "\n",
       "           Segment Description     Answer  Count  Percentage  \n",
       "1375  What's your major? Other   Facebook     88       0.209  \n",
       "1376  What's your major? Other  Instagram    156       0.370  \n",
       "1377  What's your major? Other   Snapchat      9       0.021  \n",
       "1378  What's your major? Other    Twitter     26       0.062  \n",
       "1379  What's your major? Other  No_Answer    143       0.339  "
      ]
     },
     "execution_count": 35,
     "metadata": {},
     "output_type": "execute_result"
    }
   ],
   "source": [
    "# Check the location of `What's your major? Other` value in the dataset again.\n",
    "df.iloc[1375:1380]"
   ]
  },
  {
   "cell_type": "markdown",
   "id": "ac7af98d",
   "metadata": {},
   "source": [
    "#####  Calculate the total number of peoples participating in this survey ?"
   ]
  },
  {
   "cell_type": "code",
   "execution_count": 36,
   "id": "fe321711",
   "metadata": {},
   "outputs": [
    {
     "name": "stdout",
     "output_type": "stream",
     "text": [
      "Total number of people participated in this survey are: 50770\n"
     ]
    }
   ],
   "source": [
    "print(f\"Total number of people participated in this survey are: {df['Count'].sum()}\")"
   ]
  },
  {
   "cell_type": "markdown",
   "id": "4c363138",
   "metadata": {},
   "source": [
    "#####  How many people choose Facebook, Instagram, Snapchat and Twitter Calculate each answer separately. And How many people give No answer?"
   ]
  },
  {
   "cell_type": "code",
   "execution_count": 37,
   "id": "04583208",
   "metadata": {},
   "outputs": [
    {
     "data": {
      "text/plain": [
       "Answer\n",
       "Facebook     10329\n",
       "Instagram    16524\n",
       "No_Answer    18936\n",
       "Snapchat      1574\n",
       "Twitter       3407\n",
       "Name: Count, dtype: int64"
      ]
     },
     "execution_count": 37,
     "metadata": {},
     "output_type": "execute_result"
    }
   ],
   "source": [
    "# Sum of each option \n",
    "df.groupby('Answer')['Count'].sum()"
   ]
  },
  {
   "cell_type": "code",
   "execution_count": 38,
   "id": "7dc35513",
   "metadata": {},
   "outputs": [
    {
     "data": {
      "text/plain": [
       "Answer\n",
       "Facebook     20.344692\n",
       "Instagram    32.546780\n",
       "No_Answer    37.297617\n",
       "Snapchat      3.100256\n",
       "Twitter       6.710656\n",
       "Name: Count, dtype: float64"
      ]
     },
     "execution_count": 38,
     "metadata": {},
     "output_type": "execute_result"
    }
   ],
   "source": [
    "# Calculate the percentage of answers given by people\n",
    "df.groupby('Answer')['Count'].sum()*100/df['Count'].sum()"
   ]
  },
  {
   "cell_type": "markdown",
   "id": "994a91b9",
   "metadata": {},
   "source": [
    "#### Calculate the count of segment descriptions of each segment type?"
   ]
  },
  {
   "cell_type": "code",
   "execution_count": 39,
   "id": "80aa51e8",
   "metadata": {},
   "outputs": [
    {
     "data": {
      "text/plain": [
       "Segment Type\n",
       "University    870\n",
       "Custom        560\n",
       "Gender         10\n",
       "Mobile          5\n",
       "Web             5\n",
       "Name: Segment Description, dtype: int64"
      ]
     },
     "execution_count": 39,
     "metadata": {},
     "output_type": "execute_result"
    }
   ],
   "source": [
    "# Count of Segment Descriptions of each Segment Type\n",
    "df.groupby('Segment Type')['Segment Description'].count().sort_values(ascending=False)"
   ]
  },
  {
   "cell_type": "markdown",
   "id": "9e69bf13",
   "metadata": {},
   "source": [
    "#### We find the following conclusions:\n",
    "*As we calculated that University has highest segments of 870.\n",
    "*Custom has 560 segments.\n",
    "*Gender has 10 segments.\n",
    "*Mobile and Web has 5 segments each."
   ]
  },
  {
   "cell_type": "markdown",
   "id": "149e0bb2",
   "metadata": {},
   "source": [
    "#### Conclusion & Findings\n",
    "**We performed EDA on this data set and conclude the following findings:\n",
    "\n",
    "*We conclude that total number of people participated in this survey are: 50770\n",
    "*We find that Facebook chosen by 10329 (20.34469%) people, Instagram chosen by 16524 (32.54678%) people, Snapchat chosen by 1574 (3.100256%) people, Twitter chosen by 3407 (6.710656%) people and 18936 or 37.297617% People have not give any answer."
   ]
  },
  {
   "cell_type": "code",
   "execution_count": null,
   "id": "64abd7a1",
   "metadata": {},
   "outputs": [],
   "source": []
  },
  {
   "cell_type": "code",
   "execution_count": null,
   "id": "9866779c",
   "metadata": {},
   "outputs": [],
   "source": []
  }
 ],
 "metadata": {
  "kernelspec": {
   "display_name": "Python 3 (ipykernel)",
   "language": "python",
   "name": "python3"
  },
  "language_info": {
   "codemirror_mode": {
    "name": "ipython",
    "version": 3
   },
   "file_extension": ".py",
   "mimetype": "text/x-python",
   "name": "python",
   "nbconvert_exporter": "python",
   "pygments_lexer": "ipython3",
   "version": "3.11.5"
  }
 },
 "nbformat": 4,
 "nbformat_minor": 5
}
